{
 "cells": [
  {
   "cell_type": "markdown",
   "id": "0235bddb",
   "metadata": {},
   "source": [
    "# Image Compression using Singular Value Decomposition"
   ]
  },
  {
   "cell_type": "markdown",
   "id": "8263cab7",
   "metadata": {},
   "source": [
    "### Background\n",
    "\n",
    "In this notebook, I am performing image compression through a wonderful concept called Singular Value Decomposition (SVD). I came across this concept recently in my Applied Matrix Theory course. Ever since I understood the concept and it's applications, I have been itching to put it into practice. \n",
    "\n",
    "In this notebook, I am going to compress both Black & White and Color images to show the subtle differences that come with compressing color images. I am also making it interactive so that you can choose different pictures from the catalog or upload your own to play with. \n",
    "\n",
    "Before we jump into the code, I will try to briefly explain the concept of SVD and how it can be used to compress images.\n",
    "\n",
    "### SVD\n",
    "\n",
    "A matrix of size m × n is a grid of real numbers consisting of m rows and n columns. A singular value decomposition (SVD) of an\n",
    "m × n matrix A expresses the matrix as the product of three “simple” matrices:\n",
    "\n",
    "A = USV\n",
    "\n",
    "where:\\\n",
    "U is an m × m orthogonal matrix;\\\n",
    "V is an n × n orthogonal matrix;\\\n",
    "S is an m × n diagonal matrix with nonnegative entries, and with the diagonal entries sorted from high to low (as one goes “northwest” to “southeast).”\n",
    "\n",
    "The columns of U are called the left singular vectors of A (these are m-vectors). The rows of V are the right singular vectors of A (these are n-vectors). The entries of S are the singular values of A. Thus with each singular vector (left or right) there is an associated singular value. The “first” or “top” singular vector refers to the one associated with the largest singular value, and so on.\n",
    "\n",
    "### Using SVD for Image Compression\n",
    "\n",
    "We can decompose a given image into the three color channels red, green and blue. Each channel can be represented as a \n",
    "(m × n) matrix with values ranging from 0 to 255. We can then compress the matrix A by compressing each one of the channels and then combining them.\n",
    "\n",
    "To do this, we compute an approximation to each channel in matrix A that takes only a fraction of the space taken by that particular channel of A. Now here's the great thing about SVD: the data in the matrices U, S and V is sorted by how much it contributes to the matrix A in the product. This enables us to get quite a good approximation by simply using only the most important parts of the matrices. We now choose the top k singular values that we are going to use for the approximation. The higher this number, the better the quality of the approximation gets but also the more data is needed to encode it. This is the gist of how SVD can be used for image compression.\n",
    "\n",
    "But note that, for image compression, more sophisticated methods like JPG that take human perception into account generally outperform compression using SVD\n",
    "\n",
    "\n",
    "### Credits \n",
    "https://web.stanford.edu/class/cs168/l/l9.pdf \\\n",
    "http://timbaumann.info/svd-image-compression-demo/"
   ]
  },
  {
   "cell_type": "markdown",
   "id": "308cf120",
   "metadata": {},
   "source": [
    "## Section 1: Black and White Images"
   ]
  },
  {
   "cell_type": "code",
   "execution_count": 1,
   "id": "014977f5",
   "metadata": {
    "scrolled": false
   },
   "outputs": [],
   "source": [
    "# Importing the necessary libraries\n",
    "\n",
    "from skimage import io\n",
    "import matplotlib.pyplot as plt\n",
    "import numpy as np\n",
    "from ipywidgets import interact, interactive, interact_manual\n",
    "import ipywidgets as widgets\n",
    "from IPython.display import display\n",
    "%matplotlib inline"
   ]
  },
  {
   "cell_type": "code",
   "execution_count": 2,
   "id": "d8b6a0b7",
   "metadata": {
    "scrolled": false
   },
   "outputs": [],
   "source": [
    "# Reading in the images in grayscale. Using the same set of images for both Black and White and Color image compression\n",
    "\n",
    "bw_images = {\n",
    "    \"Bird\" : io.imread('./images/Bird.jpg', as_gray=True),\n",
    "    \"Chandelier\" : io.imread('./images/Chandelier.jpg', as_gray=True),\n",
    "    \"Flowers\" : io.imread('./images/Flowers.jpg', as_gray=True),\n",
    "    \"Tree\" : io.imread('./images/Tree.jpg', as_gray=True),\n",
    "    \"Waterfall\" : io.imread('./images/Waterfall.jpg', as_gray=True)\n",
    "}"
   ]
  },
  {
   "cell_type": "code",
   "execution_count": 3,
   "id": "deee9120",
   "metadata": {
    "scrolled": false
   },
   "outputs": [],
   "source": [
    "# Showing image in widgets\n",
    "\n",
    "def show_bw_images(Image_Name):\n",
    "    fig = plt.figure(figsize=(18, 18))\n",
    "    plt.title(\"Image Name: \"+Image_Name+\"\\n\")\n",
    "    plt.imshow(bw_images[Image_Name], cmap = plt.cm.gray)  # picking the right color scale for display \n",
    "    plt.axis('off')\n",
    "    plt.show()"
   ]
  },
  {
   "cell_type": "code",
   "execution_count": 4,
   "id": "1f55744a",
   "metadata": {
    "scrolled": false
   },
   "outputs": [
    {
     "data": {
      "application/vnd.jupyter.widget-view+json": {
       "model_id": "4d336fbd75ca4eb39fcce2e0355282ea",
       "version_major": 2,
       "version_minor": 0
      },
      "text/plain": [
       "interactive(children=(Dropdown(description='Image_Name', options=('Bird', 'Chandelier', 'Flowers', 'Tree', 'Wa…"
      ]
     },
     "metadata": {},
     "output_type": "display_data"
    },
    {
     "data": {
      "text/plain": [
       "<function __main__.show_bw_images(Image_Name)>"
      ]
     },
     "execution_count": 4,
     "metadata": {},
     "output_type": "execute_result"
    }
   ],
   "source": [
    "interact(show_bw_images, Image_Name = list(bw_images.keys()))"
   ]
  },
  {
   "cell_type": "code",
   "execution_count": 6,
   "id": "7f8e455f",
   "metadata": {
    "scrolled": false
   },
   "outputs": [
    {
     "name": "stdout",
     "output_type": "stream",
     "text": [
      "Bird - (5184, 3456)\n",
      "Chandelier - (3415, 5122)\n",
      "Flowers - (7329, 5497)\n",
      "Tree - (6000, 4000)\n",
      "Waterfall - (3334, 5000)\n"
     ]
    }
   ],
   "source": [
    "# Checking the dimensions of each image to give an idea of how many singular values are present\n",
    "\n",
    "for image in bw_images.keys():\n",
    "    print(f\"{image} - {bw_images[image].shape}\")"
   ]
  },
  {
   "cell_type": "code",
   "execution_count": 8,
   "id": "2d8107f7",
   "metadata": {
    "scrolled": false
   },
   "outputs": [],
   "source": [
    "def compress_bw_image(Image_Name, k): \n",
    "    \n",
    "    fig = plt.figure(figsize=(18, 18))\n",
    "    \n",
    "    # Showing the original image\n",
    "    fig.add_subplot(1, 2, 1)\n",
    "    plt.title(f\"Original Image - {Image_Name}\")\n",
    "    plt.imshow(bw_images[Image_Name], cmap = plt.cm.gray)\n",
    "    plt.axis('off')\n",
    "    \n",
    "    # Performing SVD and the compression\n",
    "    U, S, V = np.linalg.svd(bw_images[Image_Name], full_matrices = True)\n",
    "    u = U[:, 0:k]\n",
    "    v = V[0:k]\n",
    "    compressed_image = u @ np.diag(S[0:k]) @ v\n",
    "    \n",
    "    # Showing the compressed image\n",
    "    fig.add_subplot(1, 2, 2)\n",
    "    plt.title(f\"Compressed Image - {Image_Name} (Top {k} Singular values)\")\n",
    "    plt.imshow(compressed_image, cmap = plt.cm.gray)\n",
    "    plt.axis('off')\n",
    "    plt.show()\n",
    "    \n",
    "    # Showing the compression ratio\n",
    "    dim1 = bw_images[Image_Name].shape\n",
    "    size1 = dim1[0]*dim1[1]\n",
    "    print(f\"Original Image Size (in pixels)- {size1}\")\n",
    "    size2 = min(dim1)*k + k + k*max(dim1)\n",
    "    print(f\"Compressed Image Size (in pixels)- {size2}\")\n",
    "    ratio = round(size1/size2,2)\n",
    "    print(f\"Compression Ratio - {ratio}\")    "
   ]
  },
  {
   "cell_type": "code",
   "execution_count": 9,
   "id": "1b22344f",
   "metadata": {
    "scrolled": false
   },
   "outputs": [
    {
     "data": {
      "application/vnd.jupyter.widget-view+json": {
       "model_id": "a231af1f3cc64d4d9dfd0925a0762cb1",
       "version_major": 2,
       "version_minor": 0
      },
      "text/plain": [
       "interactive(children=(Dropdown(description='Image_Name', options=('Bird', 'Chandelier', 'Flowers', 'Tree', 'Wa…"
      ]
     },
     "metadata": {},
     "output_type": "display_data"
    },
    {
     "data": {
      "text/plain": [
       "<function __main__.compress_bw_image(Image_Name, k)>"
      ]
     },
     "execution_count": 9,
     "metadata": {},
     "output_type": "execute_result"
    }
   ],
   "source": [
    "interact(compress_bw_image, Image_Name = list(bw_images.keys()), k = (0,600))"
   ]
  },
  {
   "cell_type": "markdown",
   "id": "9c5cb0f2",
   "metadata": {},
   "source": [
    "## Section 2: Color Images"
   ]
  },
  {
   "cell_type": "code",
   "execution_count": 10,
   "id": "e870c346",
   "metadata": {},
   "outputs": [],
   "source": [
    "# This time, we'll be reading in the images normally. Using the same set of images for both Black and White and Color image compression\n",
    "\n",
    "color_images = {\n",
    "    \"Bird\" : io.imread('./images/Bird.jpg'),\n",
    "    \"Chandelier\" : io.imread('./images/Chandelier.jpg'),\n",
    "    \"Flowers\" : io.imread('./images/Flowers.jpg'),\n",
    "    \"Tree\" : io.imread('./images/Tree.jpg'),\n",
    "    \"Waterfall\" : io.imread('./images/Waterfall.jpg')\n",
    "}"
   ]
  },
  {
   "cell_type": "code",
   "execution_count": 11,
   "id": "a23fbf6b",
   "metadata": {},
   "outputs": [],
   "source": [
    "# Showing image in widgets\n",
    "\n",
    "def show_color_images(Image_Name):\n",
    "    fig = plt.figure(figsize=(18, 18))\n",
    "    plt.title(\"Image Name: \"+Image_Name+\"\\n\")\n",
    "    plt.imshow(color_images[Image_Name])  # picking the right color scale for display \n",
    "    plt.axis('off')\n",
    "    plt.show()"
   ]
  },
  {
   "cell_type": "code",
   "execution_count": 12,
   "id": "f7ca2ac3",
   "metadata": {
    "scrolled": false
   },
   "outputs": [
    {
     "data": {
      "application/vnd.jupyter.widget-view+json": {
       "model_id": "e2155122ae4c4af0aca87272121d4efd",
       "version_major": 2,
       "version_minor": 0
      },
      "text/plain": [
       "interactive(children=(Dropdown(description='Image_Name', options=('Bird', 'Chandelier', 'Flowers', 'Tree', 'Wa…"
      ]
     },
     "metadata": {},
     "output_type": "display_data"
    },
    {
     "data": {
      "text/plain": [
       "<function __main__.show_color_images(Image_Name)>"
      ]
     },
     "execution_count": 12,
     "metadata": {},
     "output_type": "execute_result"
    }
   ],
   "source": [
    "interact(show_color_images, Image_Name = list(color_images.keys()))"
   ]
  },
  {
   "cell_type": "code",
   "execution_count": 13,
   "id": "d17dfa06",
   "metadata": {
    "scrolled": true
   },
   "outputs": [
    {
     "name": "stdout",
     "output_type": "stream",
     "text": [
      "Bird - (5184, 3456, 3)\n",
      "Chandelier - (3415, 5122, 3)\n",
      "Flowers - (7329, 5497, 3)\n",
      "Tree - (6000, 4000, 3)\n",
      "Waterfall - (3334, 5000, 3)\n"
     ]
    }
   ],
   "source": [
    "# Checking the dimensions of each image to give an idea of how many singular values are present\n",
    "\n",
    "for image in color_images.keys():\n",
    "    print(f\"{image} - {color_images[image].shape}\")"
   ]
  },
  {
   "cell_type": "markdown",
   "id": "74a5e908",
   "metadata": {},
   "source": [
    "Here you can see that there's a difference in the number of dimensions when compared to the Black and White images. Now you have 3 dimensions instead of 2, where the third dimension contains the color channel for the image (RGB). So, in order to perform compression, we need to do it individually for each color channel and then finally combine it."
   ]
  },
  {
   "cell_type": "code",
   "execution_count": 14,
   "id": "0803f49e",
   "metadata": {},
   "outputs": [],
   "source": [
    "def compress_color_image(Image_Name, k): \n",
    "        \n",
    "    fig = plt.figure(figsize=(18, 18))\n",
    "    \n",
    "    # Showing the original image\n",
    "    fig.add_subplot(1, 2, 1)\n",
    "    plt.title(f\"Original Image - {Image_Name}\")\n",
    "    plt.imshow(color_images[Image_Name])\n",
    "    plt.axis('off')\n",
    "    \n",
    "    # Breaking the 3d matrix into 3 2d matrices - 1 for each color channel\n",
    "    r = color_images[Image_Name][:,:,0]\n",
    "    g = color_images[Image_Name][:,:,1]\n",
    "    b = color_images[Image_Name][:,:,2]\n",
    "    \n",
    "    # Performing SVD for each matrix\n",
    "    Ur, Sr, Vr = np.linalg.svd(r, full_matrices = True)\n",
    "    Ug, Sg, Vg = np.linalg.svd(g, full_matrices = True)\n",
    "    Ub, Sb, Vb = np.linalg.svd(b, full_matrices = True)\n",
    "    \n",
    "    # Compressing all the matrices individually\n",
    "    ur = Ur[:, 0:k]\n",
    "    vr = Vr[0:k]\n",
    "    \n",
    "    ug = Ug[:, 0:k]\n",
    "    vg = Vg[0:k]\n",
    "    \n",
    "    ub = Ub[:, 0:k]\n",
    "    vb = Vb[0:k]\n",
    "    \n",
    "    compressed_image_red = ur @ np.diag(Sr[0:k]) @ vr\n",
    "    compressed_image_green = ug @ np.diag(Sg[0:k]) @ vg\n",
    "    compressed_image_blue = ub @ np.diag(Sb[0:k]) @ vb\n",
    "    \n",
    "    # Combining the three 2D matrices into a single 3D matrix\n",
    "    compressed_image = np.zeros(color_images[Image_Name].shape)\n",
    "    compressed_image[:,:,0] = compressed_image_red\n",
    "    compressed_image[:,:,1] = compressed_image_green\n",
    "    compressed_image[:,:,2] = compressed_image_blue\n",
    "    \n",
    "    # Converting the values in the matrix to be in the range [0,255]\n",
    "    compressed_image_final = np.array(compressed_image/np.amax(compressed_image)*255, np.int32)\n",
    "  \n",
    "    # Showing the compressed image\n",
    "    fig.add_subplot(1, 2, 2)\n",
    "    plt.title(f\"Compressed Image - {Image_Name} (Top {k} Singular values)\")\n",
    "    plt.imshow(compressed_image_final.astype('uint8'))\n",
    "    plt.axis('off')\n",
    "    plt.show()\n",
    "    \n",
    "    # Showing the compression ratio\n",
    "    dim1 = color_images[Image_Name].shape\n",
    "    size1 = dim1[0]*dim1[1]\n",
    "    print(f\"Original Image Size (in pixels)- {size1}\")\n",
    "    size2 = min(dim1)*k + k + k*max(dim1)\n",
    "    print(f\"Compressed Image Size (in pixels)- {size2}\")\n",
    "    ratio = round(size1/size2,2)\n",
    "    print(f\"Compression Ratio - {ratio}\")    "
   ]
  },
  {
   "cell_type": "code",
   "execution_count": 15,
   "id": "623813c6",
   "metadata": {
    "scrolled": false
   },
   "outputs": [
    {
     "data": {
      "application/vnd.jupyter.widget-view+json": {
       "model_id": "a4cdd9aa9f7245dcb135091d1ca7d527",
       "version_major": 2,
       "version_minor": 0
      },
      "text/plain": [
       "interactive(children=(Dropdown(description='Image_Name', options=('Bird', 'Chandelier', 'Flowers', 'Tree', 'Wa…"
      ]
     },
     "metadata": {},
     "output_type": "display_data"
    },
    {
     "data": {
      "text/plain": [
       "<function __main__.compress_color_image(Image_Name, k)>"
      ]
     },
     "execution_count": 15,
     "metadata": {},
     "output_type": "execute_result"
    }
   ],
   "source": [
    "interact(compress_color_image, Image_Name = list(color_images.keys()), k = (0,600))"
   ]
  },
  {
   "cell_type": "markdown",
   "id": "e4e37dc5",
   "metadata": {},
   "source": [
    "The difference between original and compressed images is more apparent for lower rank approximations for colored images than for Black and White images. But neverthless, using SVD, we can compress the image considerably by picking the top features of the image (top k singular values) without noticing visible changes in the quality of the image."
   ]
  }
 ],
 "metadata": {
  "kernelspec": {
   "display_name": "Python 3 (ipykernel)",
   "language": "python",
   "name": "python3"
  },
  "language_info": {
   "codemirror_mode": {
    "name": "ipython",
    "version": 3
   },
   "file_extension": ".py",
   "mimetype": "text/x-python",
   "name": "python",
   "nbconvert_exporter": "python",
   "pygments_lexer": "ipython3",
   "version": "3.9.12"
  }
 },
 "nbformat": 4,
 "nbformat_minor": 5
}
